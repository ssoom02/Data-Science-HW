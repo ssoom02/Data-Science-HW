{
 "cells": [
  {
   "cell_type": "code",
   "execution_count": 1,
   "id": "132964bc-61bb-4b05-bb7b-bf0abe7c27cf",
   "metadata": {},
   "outputs": [],
   "source": [
    "month = ['쌍', '쇠', '복', '돌', '팽', '육', '쌍', '개', '칠', '갑', '삼', '방']"
   ]
  },
  {
   "cell_type": "code",
   "execution_count": 2,
   "id": "6d45cafd-75de-4d56-8973-3e67776c7fbc",
   "metadata": {},
   "outputs": [
    {
     "name": "stdout",
     "output_type": "stream",
     "text": [
      "['쌍', '쇠', '복', '돌', '팽', '육', '쌍', '개', '칠', '갑', '삼', '방']\n"
     ]
    }
   ],
   "source": [
    "print(month)"
   ]
  },
  {
   "cell_type": "code",
   "execution_count": 3,
   "id": "3feeaf02-d5de-4d3f-a78e-2d9e05c16e6a",
   "metadata": {},
   "outputs": [],
   "source": [
    "day = ['봉', '구', '욕', '포', '똥', '삼', '식', '석', '놈', '님', '년', '돌', '단', '득', '방', '질', '장', '걸', '래', '룡', '동', '순', '자', '박', '창', '언', '것', '포', '만', '단', '국']"
   ]
  },
  {
   "cell_type": "code",
   "execution_count": 4,
   "id": "5009c7d4-6a4c-4ee3-b453-ffd3993fc037",
   "metadata": {},
   "outputs": [
    {
     "name": "stdout",
     "output_type": "stream",
     "text": [
      "['봉', '구', '욕', '포', '똥', '삼', '식', '석', '놈', '님', '년', '돌', '단', '득', '방', '질', '장', '걸', '래', '룡', '동', '순', '자', '박', '창', '언', '것', '포', '만', '단', '국']\n"
     ]
    }
   ],
   "source": [
    "print(day)"
   ]
  },
  {
   "cell_type": "code",
   "execution_count": 5,
   "id": "71798e7f-7969-449e-a751-2dc50e816a1d",
   "metadata": {},
   "outputs": [],
   "source": [
    "def get_my_chosun_name(family_name, x, y):\n",
    "    return print(\"당신의 조선시대 이름은 %s%s%s 입니다.\" %(family_name, month[x-1], day[y-1]))"
   ]
  },
  {
   "cell_type": "code",
   "execution_count": 6,
   "id": "d11b61cd-8f09-4763-9add-706dd54cc99d",
   "metadata": {},
   "outputs": [
    {
     "name": "stdout",
     "output_type": "stream",
     "text": [
      "당신의 조선시대 이름은 신육똥 입니다.\n"
     ]
    }
   ],
   "source": [
    "get_my_chosun_name('신', 6, 5)"
   ]
  },
  {
   "cell_type": "code",
   "execution_count": null,
   "id": "1fcecf93-6837-41e2-bbf9-6556bbe8d201",
   "metadata": {},
   "outputs": [],
   "source": []
  }
 ],
 "metadata": {
  "kernelspec": {
   "display_name": "Python 3 (ipykernel)",
   "language": "python",
   "name": "python3"
  },
  "language_info": {
   "codemirror_mode": {
    "name": "ipython",
    "version": 3
   },
   "file_extension": ".py",
   "mimetype": "text/x-python",
   "name": "python",
   "nbconvert_exporter": "python",
   "pygments_lexer": "ipython3",
   "version": "3.9.12"
  }
 },
 "nbformat": 4,
 "nbformat_minor": 5
}

{
 "cells": [
  {
   "cell_type": "code",
   "execution_count": 87,
   "id": "66094466-c33c-49f6-b913-24386b5c0567",
   "metadata": {},
   "outputs": [],
   "source": [
    "#1: Add item lovely loveseat\n",
    "\n",
    "lovely_loveseat_description = \"Lovely Loveseat. Tufted polyester blend on wood. 32 inches high x 40 inches wide x 30 inches deep. Red or white.\"\n"
   ]
  },
  {
   "cell_type": "code",
   "execution_count": 88,
   "id": "aafe78fa-d4ce-4ef8-bfa1-9162e6f8f4bd",
   "metadata": {},
   "outputs": [],
   "source": [
    "#2: Set a price for lovely loveseat\n",
    "\n",
    "lovely_loveseat_prince = 254.00\n"
   ]
  },
  {
   "cell_type": "code",
   "execution_count": 89,
   "id": "fcb9752f-e1ad-415c-a755-ef2643caa372",
   "metadata": {},
   "outputs": [],
   "source": [
    "#3: Add item stylish settee\n",
    "\n",
    "stylish_settee_description = \"Stylish Settee. Faux leather on birch. 29.50 inches high x 54.75 inches wide x 28 inches deep. Black.\"\n"
   ]
  },
  {
   "cell_type": "code",
   "execution_count": 90,
   "id": "c60fc7dc-f0f8-4135-a675-64f2855a0a52",
   "metadata": {},
   "outputs": [],
   "source": [
    "#4: Set a price for stylish settee\n",
    "\n",
    "stylish_settee_price = 180.50\n"
   ]
  },
  {
   "cell_type": "code",
   "execution_count": 91,
   "id": "ecad8bf8-6bd3-405b-87eb-48b4acdbe784",
   "metadata": {},
   "outputs": [],
   "source": [
    "#5: Add item luxurious lamp\n",
    "\n",
    "luxurious_lamp_description = \"Luxurious Lamp. Glass and iron. 36 inches tall. Brown with cream shade.\"\n"
   ]
  },
  {
   "cell_type": "code",
   "execution_count": 92,
   "id": "7520de57-779e-48b9-8b6d-056674eee726",
   "metadata": {},
   "outputs": [],
   "source": [
    "#6: Set a price for luxurious lamp\n",
    "\n",
    "luxurious_lamp_price = 52.15\n"
   ]
  },
  {
   "cell_type": "code",
   "execution_count": 93,
   "id": "01b4f6f5-79e1-4e30-935a-d5c71c4efaa2",
   "metadata": {},
   "outputs": [],
   "source": [
    "#7: Define the sales tax\n",
    "\n",
    "sales_tax = .088\n"
   ]
  },
  {
   "cell_type": "code",
   "execution_count": 94,
   "id": "35190c98-d7da-40f5-a7da-77efd008608a",
   "metadata": {},
   "outputs": [],
   "source": [
    "#8,9: Customer's purchasing list\n",
    "\n",
    "customer_one_total = 0\n",
    "\n",
    "customer_one_itemization = \"\""
   ]
  },
  {
   "cell_type": "code",
   "execution_count": 95,
   "id": "43c9ba17-448b-4d66-b0bc-6483390d9a8c",
   "metadata": {},
   "outputs": [],
   "source": [
    "#10,11: Purchase lovely loveseat \n",
    "\n",
    "customer_one_total += lovely_loveseat_prince\n",
    "\n",
    "customer_one_itemization += lovely_loveseat_description\n"
   ]
  },
  {
   "cell_type": "code",
   "execution_count": 96,
   "id": "fe86d821-985b-4dda-9ea0-6bbd674662cf",
   "metadata": {},
   "outputs": [],
   "source": [
    "#12,13: Purchase luxurious lamp\n",
    "\n",
    "customer_one_total += luxurious_lamp_price\n",
    "\n",
    "customer_one_itemization += luxurious_lamp_description\n"
   ]
  },
  {
   "cell_type": "code",
   "execution_count": 97,
   "id": "cac3ebb3-8bc3-405f-b896-8392c41c2db0",
   "metadata": {},
   "outputs": [],
   "source": [
    "#14: Calculation slaes tax\n",
    "\n",
    "customer_one_tax = customer_one_total * sales_tax\n"
   ]
  },
  {
   "cell_type": "code",
   "execution_count": 98,
   "id": "abe482ee-6a29-45db-96e4-f2d16f79a8ac",
   "metadata": {},
   "outputs": [],
   "source": [
    "#15: Add to customer's total cost\n",
    "\n",
    "customer_one_total += customer_one_tax\n"
   ]
  },
  {
   "cell_type": "code",
   "execution_count": 99,
   "id": "fbef2019-4bad-49d8-9385-d46a80eef1a9",
   "metadata": {},
   "outputs": [
    {
     "name": "stdout",
     "output_type": "stream",
     "text": [
      "Customer One Items:\n",
      "Lovely Loveseat. Tufted polyester blend on wood. 32 inches high x 40 inches wide x 30 inches deep. Red or white.Luxurious Lamp. Glass and iron. 36 inches tall. Brown with cream shade.\n",
      "Customer One Total:\n",
      "333.09119999999996\n"
     ]
    }
   ],
   "source": [
    "#16,17,18,19,20: Reciept\n",
    "\n",
    "print(\"Customer One Items:\")\n",
    "print(customer_one_itemization)\n",
    "print(\"Customer One Total:\")\n",
    "print(customer_one_total)"
   ]
  },
  {
   "cell_type": "code",
   "execution_count": null,
   "id": "9821be49-bd42-4905-bf46-58e661135bd1",
   "metadata": {},
   "outputs": [],
   "source": []
  }
 ],
 "metadata": {
  "kernelspec": {
   "display_name": "Python 3 (ipykernel)",
   "language": "python",
   "name": "python3"
  },
  "language_info": {
   "codemirror_mode": {
    "name": "ipython",
    "version": 3
   },
   "file_extension": ".py",
   "mimetype": "text/x-python",
   "name": "python",
   "nbconvert_exporter": "python",
   "pygments_lexer": "ipython3",
   "version": "3.9.12"
  }
 },
 "nbformat": 4,
 "nbformat_minor": 5
}

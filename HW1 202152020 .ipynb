{
 "cells": [
  {
   "cell_type": "markdown",
   "id": "04983697-5ed2-4246-b2bb-476d1847b47e",
   "metadata": {},
   "source": [
    "lovely_loveseat_description = \"Lovely Loveseat. Tufted polyester blend on wood. 32 inches high x 40 inches wide x 30 inches deep. Red or white.\"\n",
    "print(lovely_loveseat_description)"
   ]
  },
  {
   "cell_type": "markdown",
   "id": "46dbcbb5-4ce2-4e98-8718-b5ecf313062c",
   "metadata": {},
   "source": [
    "lovely_loveseat_prince = 254.00\n",
    "print(lovely_loveseat_prince)"
   ]
  },
  {
   "cell_type": "markdown",
   "id": "083564c0-873b-4672-bf02-819693906872",
   "metadata": {},
   "source": [
    "stylish_settee_description = \"Stylish Settee. Faux leather on birch. 29.50 inches high x 54.75 inches wide x 28 inches deep. Black.\"\n",
    "print(stylish_settee_description)"
   ]
  },
  {
   "cell_type": "markdown",
   "id": "8116f2f1-02ed-4587-97c4-58a4c9ebf4a7",
   "metadata": {},
   "source": [
    "stylish_settee_price = 180.50\n",
    "print(stylish_settee_price)"
   ]
  },
  {
   "cell_type": "markdown",
   "id": "f8eac546-336e-499b-a450-00aec261311e",
   "metadata": {},
   "source": [
    "luxurious_lamp_description = \"Luxurious Lamp. Glass and iron. 36 inches tall. Brown with cream shade.\"\n",
    "print(luxurious_lamp_description)"
   ]
  },
  {
   "cell_type": "markdown",
   "id": "6308180c-ab01-49d9-9fc8-126478a0be4f",
   "metadata": {},
   "source": [
    "luxurious_lamp_price = 52.15\n",
    "print(luxurious_lamp_price)"
   ]
  },
  {
   "cell_type": "markdown",
   "id": "95b9074c-130e-4c88-9fef-35ac47030990",
   "metadata": {},
   "source": [
    "sales_tax = .088\n",
    "print(sales_tax)"
   ]
  },
  {
   "cell_type": "markdown",
   "id": "74ad13d3-de53-4de2-ae5c-c53777a06f4d",
   "metadata": {},
   "source": [
    "customer_one_total = 0\n",
    "\n",
    "customer_one_itemization = \"\""
   ]
  },
  {
   "cell_type": "markdown",
   "id": "fc05d95f-8ae1-4425-8b15-95dc838ab146",
   "metadata": {},
   "source": [
    "customer_one_total += lovely_loveseat_prince\n",
    "print(customer_one_total)\n",
    "\n",
    "\n",
    "customer_one_itemization += lovely_loveseat_description\n",
    "print(customer_one_itemization)"
   ]
  },
  {
   "cell_type": "markdown",
   "id": "ac2e1018-2d6d-416e-b531-8eac29a1e76b",
   "metadata": {},
   "source": [
    "customer_one_total += luxurious_lamp_price\n",
    "print(customer_one_total)\n",
    "\n",
    "customer_one_itemization += luxurious_lamp_description\n",
    "print(customer_one_itemization)"
   ]
  },
  {
   "cell_type": "markdown",
   "id": "113d042b-be71-49f5-882f-6981aab01416",
   "metadata": {},
   "source": [
    "customer_one_tax = customer_one_total * sales_tax\n",
    "print(customer_one_tax)"
   ]
  },
  {
   "cell_type": "markdown",
   "id": "5a2b538d-4567-4795-9376-2ef3022bd07c",
   "metadata": {},
   "source": [
    "customer_one_total += customer_one_tax\n",
    "print(customer_one_total)"
   ]
  },
  {
   "cell_type": "markdown",
   "id": "a0119dbe-1a96-4e21-a2a6-40cc6291067d",
   "metadata": {},
   "source": [
    "receipt = \"Customer One Items:\" + \"\\n\" + customer_one_itemization + \"\\n\"\n",
    "print(receipt)"
   ]
  },
  {
   "cell_type": "markdown",
   "id": "1b358417-5c04-4623-b6cc-6c746c8563d3",
   "metadata": {},
   "source": [
    "receipt += \"Customer One Total:\" + \"\\n\" + str(customer_one_total)"
   ]
  },
  {
   "cell_type": "markdown",
   "id": "9f3861a7-a983-4e7f-a20d-2fb60a460c6c",
   "metadata": {},
   "source": [
    "print(receipt)"
   ]
  },
  {
   "cell_type": "markdown",
   "id": "3a138486-ca9d-42f7-b53c-1e6c8998d99f",
   "metadata": {},
   "source": []
  }
 ],
 "metadata": {
  "kernelspec": {
   "display_name": "Python 3 (ipykernel)",
   "language": "python",
   "name": "python3"
  },
  "language_info": {
   "codemirror_mode": {
    "name": "ipython",
    "version": 3
   },
   "file_extension": ".py",
   "mimetype": "text/x-python",
   "name": "python",
   "nbconvert_exporter": "python",
   "pygments_lexer": "ipython3",
   "version": "3.9.12"
  }
 },
 "nbformat": 4,
 "nbformat_minor": 5
}

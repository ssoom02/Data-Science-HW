{
 "cells": [
  {
   "cell_type": "code",
   "execution_count": 17,
   "id": "a2f8fc43-3507-4329-b7b9-7406bbb44426",
   "metadata": {},
   "outputs": [
    {
     "name": "stdout",
     "output_type": "stream",
     "text": [
      "['physics', 'calculus', 'poetry', 'history']\n",
      "[98, 97, 85, 88]\n"
     ]
    }
   ],
   "source": [
    "#1,2: Creat list\n",
    "\n",
    "subjects = [\"physics\", \"calculus\", \"poetry\", \"history\"]\n",
    "print(subjects)\n",
    "\n",
    "grades = [98, 97, 85, 88]\n",
    "print(grades)\n"
   ]
  },
  {
   "cell_type": "code",
   "execution_count": 18,
   "id": "bcade411-2852-4bb2-b712-29c18cffb336",
   "metadata": {},
   "outputs": [
    {
     "name": "stdout",
     "output_type": "stream",
     "text": [
      "[['physics', 98], ['calculus', 97], ['poetry', 85], ['history', 88]]\n"
     ]
    }
   ],
   "source": [
    "#3,4: Create a two-dimensional list and Print\n",
    "\n",
    "gradebook = [['physics', 98],\n",
    "             ['calculus',97],\n",
    "             ['poetry',85],\n",
    "             ['history',88]]\n",
    "\n",
    "print(gradebook)\n"
   ]
  },
  {
   "cell_type": "code",
   "execution_count": 19,
   "id": "f059f93c-aa4b-4f38-ba3d-46bbf8fee9af",
   "metadata": {},
   "outputs": [
    {
     "name": "stdout",
     "output_type": "stream",
     "text": [
      "[['physics', 98], ['calculus', 97], ['poetry', 85], ['history', 88], ['computer science', 100]]\n"
     ]
    }
   ],
   "source": [
    "#5: Add computer science class\n",
    "\n",
    "gradebook.append(['computer science',100])\n",
    "print(gradebook)\n"
   ]
  },
  {
   "cell_type": "code",
   "execution_count": 20,
   "id": "ec932978-0560-4328-9fff-096dfe4c666f",
   "metadata": {},
   "outputs": [
    {
     "name": "stdout",
     "output_type": "stream",
     "text": [
      "[['physics', 98], ['calculus', 97], ['poetry', 85], ['history', 88], ['computer science', 100], ['visual arts', 93]]\n"
     ]
    }
   ],
   "source": [
    "#6: Add visual arts class\n",
    "\n",
    "gradebook.append(['visual arts',93])\n",
    "print(gradebook)\n"
   ]
  },
  {
   "cell_type": "code",
   "execution_count": 21,
   "id": "c5e6c4fd-3f41-4059-9221-fddff1a1812b",
   "metadata": {},
   "outputs": [
    {
     "name": "stdout",
     "output_type": "stream",
     "text": [
      "[['physics', 98], ['calculus', 97], ['poetry', 85], ['history', 88], ['computer science', 100], ['visual arts', 98]]\n"
     ]
    }
   ],
   "source": [
    "#7: Rewarding an extra point for visual arts class\n",
    "\n",
    "gradebook[5][1] = 98\n",
    "print(gradebook)\n"
   ]
  },
  {
   "cell_type": "code",
   "execution_count": 22,
   "id": "06bb4b15-3872-4a0e-8b8a-d09b805dcfdd",
   "metadata": {},
   "outputs": [
    {
     "name": "stdout",
     "output_type": "stream",
     "text": [
      "[['physics', 98], ['calculus', 97], ['history', 88], ['computer science', 100], ['visual arts', 98]]\n"
     ]
    }
   ],
   "source": [
    "#8: Delete poetry class\n",
    "\n",
    "gradebook.remove(['poetry', 85])\n",
    "print(gradebook)\n"
   ]
  },
  {
   "cell_type": "code",
   "execution_count": 23,
   "id": "8d8338ce-2a92-4d51-b88a-31c5bb3b73c2",
   "metadata": {},
   "outputs": [
    {
     "name": "stdout",
     "output_type": "stream",
     "text": [
      "[['physics', 98], ['calculus', 97], ['poetry', 'Pass'], ['history', 88], ['computer science', 100], ['visual arts', 98]]\n"
     ]
    }
   ],
   "source": [
    "#9: Add new value to the sublist\n",
    "\n",
    "gradebook.insert(2,['poetry', 'Pass'])\n",
    "print(gradebook)\n"
   ]
  },
  {
   "cell_type": "code",
   "execution_count": 24,
   "id": "da35fe0a-f01e-4c72-9e4f-3a195b282d65",
   "metadata": {},
   "outputs": [],
   "source": [
    "#10: Stored last semester\n",
    "\n",
    "last_semester_gradebook = [[\"politics\", 80], \n",
    "                           [\"latin\", 96], \n",
    "                           [\"dance\", 97], \n",
    "                           [\"architecture\", 65]]\n"
   ]
  },
  {
   "cell_type": "code",
   "execution_count": 25,
   "id": "1c1eaa8e-19f8-48c5-adf8-5fc0929ab4e5",
   "metadata": {},
   "outputs": [
    {
     "name": "stdout",
     "output_type": "stream",
     "text": [
      "[['politics', 80], ['latin', 96], ['dance', 97], ['architecture', 65], ['physics', 98], ['calculus', 97], ['poetry', 'Pass'], ['history', 88], ['computer science', 100], ['visual arts', 98]]\n"
     ]
    }
   ],
   "source": [
    "#11: Print completed list\n",
    "\n",
    "full_gradebook = last_semester_gradebook + gradebook\n",
    "\n",
    "print(full_gradebook)"
   ]
  },
  {
   "cell_type": "code",
   "execution_count": null,
   "id": "c1499444-1be1-4b01-a643-ddab5128aa92",
   "metadata": {},
   "outputs": [],
   "source": []
  }
 ],
 "metadata": {
  "kernelspec": {
   "display_name": "Python 3 (ipykernel)",
   "language": "python",
   "name": "python3"
  },
  "language_info": {
   "codemirror_mode": {
    "name": "ipython",
    "version": 3
   },
   "file_extension": ".py",
   "mimetype": "text/x-python",
   "name": "python",
   "nbconvert_exporter": "python",
   "pygments_lexer": "ipython3",
   "version": "3.9.12"
  }
 },
 "nbformat": 4,
 "nbformat_minor": 5
}
